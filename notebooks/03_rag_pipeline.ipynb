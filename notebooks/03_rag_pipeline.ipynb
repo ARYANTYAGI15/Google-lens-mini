{
 "cells": [
  {
   "cell_type": "code",
   "execution_count": 1,
   "id": "7880afdf",
   "metadata": {},
   "outputs": [],
   "source": [
    "import sys, os\n",
    "\n",
    "# get project root (one folder up from notebooks/)\n",
    "project_root = os.path.abspath(os.path.join(os.getcwd(), \"..\"))\n",
    "if project_root not in sys.path:\n",
    "    sys.path.append(project_root)"
   ]
  },
  {
   "cell_type": "code",
   "execution_count": 2,
   "id": "3f0fab3b",
   "metadata": {},
   "outputs": [
    {
     "name": "stderr",
     "output_type": "stream",
     "text": [
      "c:\\Users\\Dell\\OneDrive\\Desktop\\Mini Lens Google\\Google-lens-mini\\lens\\Lib\\site-packages\\tqdm\\auto.py:21: TqdmWarning: IProgress not found. Please update jupyter and ipywidgets. See https://ipywidgets.readthedocs.io/en/stable/user_install.html\n",
      "  from .autonotebook import tqdm as notebook_tqdm\n"
     ]
    }
   ],
   "source": [
    "from modules.embeddings import build_faiss_index\n",
    "from modules.retrieval import retrieve\n",
    "from modules.generator import generate_answer"
   ]
  },
  {
   "cell_type": "code",
   "execution_count": 3,
   "id": "853e3706",
   "metadata": {},
   "outputs": [
    {
     "name": "stderr",
     "output_type": "stream",
     "text": [
      "Batches: 100%|██████████| 1/1 [00:00<00:00, 27.49it/s]"
     ]
    },
    {
     "name": "stdout",
     "output_type": "stream",
     "text": [
      "✅ Saved index to data/vectorstore\n"
     ]
    },
    {
     "name": "stderr",
     "output_type": "stream",
     "text": [
      "\n"
     ]
    }
   ],
   "source": [
    "build_faiss_index()"
   ]
  },
  {
   "cell_type": "code",
   "execution_count": 4,
   "id": "39f52374",
   "metadata": {},
   "outputs": [],
   "source": [
    "query = \"What items are mentioned in the receipt?\"\n",
    "retrieved = retrieve(query, top_k=5)"
   ]
  },
  {
   "cell_type": "code",
   "execution_count": 6,
   "id": "2cd193c5",
   "metadata": {},
   "outputs": [
    {
     "name": "stderr",
     "output_type": "stream",
     "text": [
      "Xet Storage is enabled for this repo, but the 'hf_xet' package is not installed. Falling back to regular HTTP download. For better performance, install the package with: `pip install huggingface_hub[hf_xet]` or `pip install hf_xet`\n"
     ]
    },
    {
     "name": "stdout",
     "output_type": "stream",
     "text": [
      "Answer: [receipt_001|receipt_001_c0]\n",
      "\n",
      "Retrieved chunks:\n",
      "{'score': 0.10391432046890259, 'chunk_id': 'receipt_001_c0', 'image_id': 'receipt_001', 'text': 'Image ID: receipt_001\\n        OCR: n = 1280 n = 32 n = 96 n = 1280 128x128x3 128x128 64 x 64 32 x 32 Softmax Fully Connected Classifier MobileNetv2 Preprocessing 3x3 Conv, ReLU Max pool 2x2 [\\n        Objects: \\n        QR: \\n        Caption: a diagram of the cell membrane'}\n"
     ]
    }
   ],
   "source": [
    "answer = generate_answer(query, retrieved)\n",
    "print(\"Answer:\", answer)\n",
    "\n",
    "print(\"\\nRetrieved chunks:\")\n",
    "for r in retrieved:\n",
    "    print(r)"
   ]
  },
  {
   "cell_type": "code",
   "execution_count": null,
   "id": "cf5c14ed",
   "metadata": {},
   "outputs": [],
   "source": []
  }
 ],
 "metadata": {
  "kernelspec": {
   "display_name": "lens",
   "language": "python",
   "name": "python3"
  },
  "language_info": {
   "codemirror_mode": {
    "name": "ipython",
    "version": 3
   },
   "file_extension": ".py",
   "mimetype": "text/x-python",
   "name": "python",
   "nbconvert_exporter": "python",
   "pygments_lexer": "ipython3",
   "version": "3.11.7"
  }
 },
 "nbformat": 4,
 "nbformat_minor": 5
}
