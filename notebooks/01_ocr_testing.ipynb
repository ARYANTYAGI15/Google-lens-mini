{
 "cells": [
  {
   "cell_type": "code",
   "execution_count": 1,
   "id": "c0f55904",
   "metadata": {},
   "outputs": [],
   "source": [
    "import sys, os\n",
    "\n",
    "# get project root (one folder up from notebooks/)\n",
    "project_root = os.path.abspath(os.path.join(os.getcwd(), \"..\"))\n",
    "if project_root not in sys.path:\n",
    "    sys.path.append(project_root)"
   ]
  },
  {
   "cell_type": "code",
   "execution_count": 2,
   "id": "c1e6f6e5",
   "metadata": {},
   "outputs": [
    {
     "name": "stderr",
     "output_type": "stream",
     "text": [
      "c:\\Users\\Dell\\OneDrive\\Desktop\\Mini Lens Google\\Google-lens-mini\\lens\\Lib\\site-packages\\tqdm\\auto.py:21: TqdmWarning: IProgress not found. Please update jupyter and ipywidgets. See https://ipywidgets.readthedocs.io/en/stable/user_install.html\n",
      "  from .autonotebook import tqdm as notebook_tqdm\n"
     ]
    }
   ],
   "source": [
    "from modules.preprocessing import preprocessing_image\n",
    "from modules.ocr_engine import run_easyocr, run_paddleocr\n",
    "import cv2"
   ]
  },
  {
   "cell_type": "code",
   "execution_count": 3,
   "id": "596bed66",
   "metadata": {},
   "outputs": [],
   "source": [
    "img_path = r\"C:\\Users\\Dell\\OneDrive\\Pictures\\Workflow.png\"\n"
   ]
  },
  {
   "cell_type": "code",
   "execution_count": 4,
   "id": "5429836d",
   "metadata": {},
   "outputs": [
    {
     "data": {
      "text/plain": [
       "'C:\\\\Users\\\\Dell\\\\OneDrive\\\\Pictures\\\\Workflow.png'"
      ]
     },
     "execution_count": 4,
     "metadata": {},
     "output_type": "execute_result"
    }
   ],
   "source": [
    "img_path"
   ]
  },
  {
   "cell_type": "code",
   "execution_count": 5,
   "id": "76ea48da",
   "metadata": {},
   "outputs": [],
   "source": [
    "versions = preprocessing_image(img_path)"
   ]
  },
  {
   "cell_type": "code",
   "execution_count": 6,
   "id": "02a07df6",
   "metadata": {},
   "outputs": [
    {
     "name": "stderr",
     "output_type": "stream",
     "text": [
      "Neither CUDA nor MPS are available - defaulting to CPU. Note: This module is much faster with a GPU.\n",
      "c:\\Users\\Dell\\OneDrive\\Desktop\\Mini Lens Google\\Google-lens-mini\\lens\\Lib\\site-packages\\torch\\utils\\data\\dataloader.py:666: UserWarning: 'pin_memory' argument is set as true but no accelerator is found, then device pinned memory won't be used.\n",
      "  warnings.warn(warn_msg)\n",
      "c:\\Users\\Dell\\OneDrive\\Desktop\\Mini Lens Google\\Google-lens-mini\\lens\\Lib\\site-packages\\paddle\\utils\\cpp_extension\\extension_utils.py:717: UserWarning: No ccache found. Please be aware that recompiling all source files may be required. You can download and install ccache from: https://github.com/ccache/ccache/blob/master/doc/INSTALL.md\n",
      "  warnings.warn(warning_message)\n",
      "\u001b[32mCreating model: ('PP-LCNet_x1_0_doc_ori', None)\u001b[0m\n",
      "\u001b[32mModel files already exist. Using cached files. To redownload, please delete the directory manually: `C:\\Users\\Dell\\.paddlex\\official_models\\PP-LCNet_x1_0_doc_ori`.\u001b[0m\n",
      "\u001b[32mCreating model: ('UVDoc', None)\u001b[0m\n",
      "\u001b[32mModel files already exist. Using cached files. To redownload, please delete the directory manually: `C:\\Users\\Dell\\.paddlex\\official_models\\UVDoc`.\u001b[0m\n",
      "\u001b[32mCreating model: ('PP-LCNet_x1_0_textline_ori', None)\u001b[0m\n",
      "\u001b[32mModel files already exist. Using cached files. To redownload, please delete the directory manually: `C:\\Users\\Dell\\.paddlex\\official_models\\PP-LCNet_x1_0_textline_ori`.\u001b[0m\n",
      "\u001b[32mCreating model: ('PP-OCRv5_server_det', None)\u001b[0m\n",
      "\u001b[32mModel files already exist. Using cached files. To redownload, please delete the directory manually: `C:\\Users\\Dell\\.paddlex\\official_models\\PP-OCRv5_server_det`.\u001b[0m\n",
      "\u001b[32mCreating model: ('en_PP-OCRv5_mobile_rec', None)\u001b[0m\n",
      "\u001b[32mModel files already exist. Using cached files. To redownload, please delete the directory manually: `C:\\Users\\Dell\\.paddlex\\official_models\\en_PP-OCRv5_mobile_rec`.\u001b[0m\n"
     ]
    }
   ],
   "source": [
    "easy_text = run_easyocr(versions[\"enhanced\"])\n",
    "paddle_text = run_paddleocr(img_path)"
   ]
  },
  {
   "cell_type": "code",
   "execution_count": 7,
   "id": "be3bda54",
   "metadata": {},
   "outputs": [
    {
     "name": "stdout",
     "output_type": "stream",
     "text": [
      "EasyOCR Output: [{'text': 'End-to-End Text Summarizer Project: Workflow', 'conf': 0.8762971304964376, 'bbox': [[np.int32(171), np.int32(5)], [np.int32(581), np.int32(5)], [np.int32(581), np.int32(25)], [np.int32(171), np.int32(25)]]}, {'text': 'Pipeline', 'conf': 0.9999361045321065, 'bbox': [[np.int32(221), np.int32(89)], [np.int32(275), np.int32(89)], [np.int32(275), np.int32(103)], [np.int32(221), np.int32(103)]]}, {'text': 'Data', 'conf': 0.9999849200248718, 'bbox': [[np.int32(55), np.int32(101)], [np.int32(87), np.int32(101)], [np.int32(87), np.int32(117)], [np.int32(55), np.int32(117)]]}]\n",
      "PaddleOCR Output: [{'input_path': 'C:\\\\Users\\\\Dell\\\\OneDrive\\\\Pictures\\\\Workflow.png', 'page_index': None, 'doc_preprocessor_res': {'input_path': None, 'page_index': None, 'input_img': array([[[255, ..., 255],\n",
      "        ...,\n",
      "        [255, ..., 255]],\n",
      "\n",
      "       ...,\n",
      "\n",
      "       [[255, ..., 255],\n",
      "        ...,\n",
      "        [255, ..., 255]]], shape=(393, 748, 3), dtype=uint8), 'model_settings': {'use_doc_orientation_classify': True, 'use_doc_unwarping': True}, 'angle': 0, 'rot_img': array([[[255, ..., 255],\n",
      "        ...,\n",
      "        [255, ..., 255]],\n",
      "\n",
      "       ...,\n",
      "\n",
      "       [[255, ..., 255],\n",
      "        ...,\n",
      "        [255, ..., 255]]], shape=(393, 748, 3), dtype=uint8), 'output_img': array([[[255, ..., 255],\n",
      "        ...,\n",
      "        [255, ..., 255]],\n",
      "\n",
      "       ...,\n",
      "\n",
      "       [[255, ..., 255],\n",
      "        ...,\n",
      "        [255, ..., 255]]], shape=(393, 748, 3), dtype=uint8)}, 'dt_polys': [array([[175,   0],\n",
      "       ...,\n",
      "       [175,  12]], shape=(4, 2), dtype=int16), array([[225,  82],\n",
      "       ...,\n",
      "       [225,  96]], shape=(4, 2), dtype=int16), array([[ 41,  93],\n",
      "       ...,\n",
      "       [ 40, 107]], shape=(4, 2), dtype=int16), array([[200,  94],\n",
      "       ...,\n",
      "       [200, 112]], shape=(4, 2), dtype=int16), array([[367,  88],\n",
      "       ...,\n",
      "       [367, 102]], shape=(4, 2), dtype=int16), array([[520,  88],\n",
      "       ...,\n",
      "       [520, 102]], shape=(4, 2), dtype=int16), array([[682,  85],\n",
      "       ...,\n",
      "       [682,  99]], shape=(4, 2), dtype=int16), array([[330, 102],\n",
      "       ...,\n",
      "       [330, 116]], shape=(4, 2), dtype=int16), array([[495, 100],\n",
      "       ...,\n",
      "       [495, 118]], shape=(4, 2), dtype=int16), array([[651,  99],\n",
      "       ...,\n",
      "       [652, 114]], shape=(4, 2), dtype=int16), array([[206, 110],\n",
      "       ...,\n",
      "       [206, 124]], shape=(4, 2), dtype=int16), array([[215, 242],\n",
      "       ...,\n",
      "       [216, 259]], shape=(4, 2), dtype=int16), array([[451, 245],\n",
      "       ...,\n",
      "       [452, 259]], shape=(4, 2), dtype=int16), array([[669, 246],\n",
      "       ...,\n",
      "       [669, 258]], shape=(4, 2), dtype=int16), array([[208, 259],\n",
      "       ...,\n",
      "       [208, 271]], shape=(4, 2), dtype=int16), array([[412, 259],\n",
      "       ...,\n",
      "       [412, 273]], shape=(4, 2), dtype=int16), array([[697, 258],\n",
      "       ...,\n",
      "       [697, 272]], shape=(4, 2), dtype=int16)], 'model_settings': {'use_doc_preprocessor': True, 'use_textline_orientation': True}, 'text_det_params': {'limit_side_len': 64, 'limit_type': 'min', 'thresh': 0.3, 'max_side_limit': 4000, 'box_thresh': 0.6, 'unclip_ratio': 1.5}, 'text_type': 'general', 'text_rec_score_thresh': 0.0, 'return_word_box': False, 'rec_texts': ['End-to-End Text Summarizer Project: Workflow', 'Pipeline', 'Data & Config', '(Entity, Config,', 'Training &', 'App Layer', 'Docker', 'Summarization Model', '(app.py / FastAPl)', 'Containerizati', 'Components)', 'AWS ECR', 'AWS EC2', 'GitHub Acti', 'Push Image', '(Self-hosted Runner)', '(CI/CD)'], 'rec_scores': [0.9971497058868408, 0.9999704957008362, 0.9987694621086121, 0.9988952875137329, 0.9987818002700806, 0.9997106194496155, 0.9997444748878479, 0.9991292357444763, 0.9657080173492432, 0.9956249594688416, 0.9992688894271851, 0.9367223381996155, 0.9990359544754028, 0.9665204882621765, 0.9997170567512512, 0.9942809343338013, 0.9974692463874817], 'rec_polys': [array([[175,   0],\n",
      "       ...,\n",
      "       [175,  12]], shape=(4, 2), dtype=int16), array([[225,  82],\n",
      "       ...,\n",
      "       [225,  96]], shape=(4, 2), dtype=int16), array([[ 41,  93],\n",
      "       ...,\n",
      "       [ 40, 107]], shape=(4, 2), dtype=int16), array([[200,  94],\n",
      "       ...,\n",
      "       [200, 112]], shape=(4, 2), dtype=int16), array([[367,  88],\n",
      "       ...,\n",
      "       [367, 102]], shape=(4, 2), dtype=int16), array([[520,  88],\n",
      "       ...,\n",
      "       [520, 102]], shape=(4, 2), dtype=int16), array([[682,  85],\n",
      "       ...,\n",
      "       [682,  99]], shape=(4, 2), dtype=int16), array([[330, 102],\n",
      "       ...,\n",
      "       [330, 116]], shape=(4, 2), dtype=int16), array([[495, 100],\n",
      "       ...,\n",
      "       [495, 118]], shape=(4, 2), dtype=int16), array([[651,  99],\n",
      "       ...,\n",
      "       [652, 114]], shape=(4, 2), dtype=int16), array([[206, 110],\n",
      "       ...,\n",
      "       [206, 124]], shape=(4, 2), dtype=int16), array([[215, 242],\n",
      "       ...,\n",
      "       [216, 259]], shape=(4, 2), dtype=int16), array([[451, 245],\n",
      "       ...,\n",
      "       [452, 259]], shape=(4, 2), dtype=int16), array([[669, 246],\n",
      "       ...,\n",
      "       [669, 258]], shape=(4, 2), dtype=int16), array([[208, 259],\n",
      "       ...,\n",
      "       [208, 271]], shape=(4, 2), dtype=int16), array([[412, 259],\n",
      "       ...,\n",
      "       [412, 273]], shape=(4, 2), dtype=int16), array([[697, 258],\n",
      "       ...,\n",
      "       [697, 272]], shape=(4, 2), dtype=int16)], 'vis_fonts': [<paddlex.utils.fonts.Font object at 0x0000025FE17FAB50>, <paddlex.utils.fonts.Font object at 0x0000025FE17FAB50>, <paddlex.utils.fonts.Font object at 0x0000025FE17FAB50>, <paddlex.utils.fonts.Font object at 0x0000025FE17FAB50>, <paddlex.utils.fonts.Font object at 0x0000025FE17FAB50>, <paddlex.utils.fonts.Font object at 0x0000025FE17FAB50>, <paddlex.utils.fonts.Font object at 0x0000025FE17FAB50>, <paddlex.utils.fonts.Font object at 0x0000025FE17FAB50>, <paddlex.utils.fonts.Font object at 0x0000025FE17FAB50>, <paddlex.utils.fonts.Font object at 0x0000025FE17FAB50>, <paddlex.utils.fonts.Font object at 0x0000025FE17FAB50>, <paddlex.utils.fonts.Font object at 0x0000025FE17FAB50>, <paddlex.utils.fonts.Font object at 0x0000025FE17FAB50>, <paddlex.utils.fonts.Font object at 0x0000025FE17FAB50>, <paddlex.utils.fonts.Font object at 0x0000025FE17FAB50>, <paddlex.utils.fonts.Font object at 0x0000025FE17FAB50>, <paddlex.utils.fonts.Font object at 0x0000025FE17FAB50>], 'textline_orientation_angles': [0, 0, 0, 0, 0, 0, 0, 0, 0, 0, 0, 0, 0, 0, 0, 0, 0], 'rec_boxes': array([[175, ...,  13],\n",
      "       ...,\n",
      "       [697, ..., 272]], shape=(17, 4), dtype=int16)}]\n"
     ]
    }
   ],
   "source": [
    "print(\"EasyOCR Output:\", easy_text[:3])\n",
    "print(\"PaddleOCR Output:\", paddle_text[:3])"
   ]
  },
  {
   "cell_type": "code",
   "execution_count": 8,
   "id": "d65fac75",
   "metadata": {},
   "outputs": [],
   "source": [
    "cv2.imshow(\"Enhanced\", versions[\"enhanced\"])\n",
    "cv2.waitKey(0)\n",
    "cv2.destroyAllWindows()"
   ]
  },
  {
   "cell_type": "code",
   "execution_count": null,
   "id": "a5560a8b",
   "metadata": {},
   "outputs": [],
   "source": []
  }
 ],
 "metadata": {
  "kernelspec": {
   "display_name": "lens",
   "language": "python",
   "name": "python3"
  },
  "language_info": {
   "codemirror_mode": {
    "name": "ipython",
    "version": 3
   },
   "file_extension": ".py",
   "mimetype": "text/x-python",
   "name": "python",
   "nbconvert_exporter": "python",
   "pygments_lexer": "ipython3",
   "version": "3.11.7"
  }
 },
 "nbformat": 4,
 "nbformat_minor": 5
}
